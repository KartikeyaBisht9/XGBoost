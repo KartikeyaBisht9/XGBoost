{
 "cells": [
  {
   "attachments": {},
   "cell_type": "markdown",
   "metadata": {},
   "source": [
    "## Option Pricing Model\n",
    "\n",
    "In this section I aim to perform option pricing from a machine learning standpoint. Option prices can be calculated based on several inputs that are broadcasted by a broker. These include the 5-greeks, strike price, underlying price etc. \n",
    "\n",
    "I will frame option's pricing as a regression problem and will construct a model that predicts option prices based on current known statistics such as the greeks, strike etc. \n",
    "\n",
    "The model choice for regression is XGBoost. Given more time, I would utilise a variety of models such as Support Vector Regressors, GAMs, ANNs etc and choose the best. "
   ]
  },
  {
   "attachments": {},
   "cell_type": "markdown",
   "metadata": {},
   "source": [
    "### 1.0 Importing Necessary Modules"
   ]
  },
  {
   "cell_type": "code",
   "execution_count": 2,
   "metadata": {},
   "outputs": [],
   "source": [
    "import numpy as np \n",
    "import matplotlib.pyplot as plt\n",
    "from matplotlib import cm\n",
    "import pandas as pd\n",
    "import seaborn as sns\n",
    "import sklearn as sk"
   ]
  },
  {
   "attachments": {},
   "cell_type": "markdown",
   "metadata": {},
   "source": [
    "### 2.0 Data Loading and Pre-processing\n",
    "\n",
    "We load the data set used to train this model.\n",
    "\n",
    "About the dataset:\n",
    "The dataset used  is the L3 Historical CSV Data Sample. This dataset comprises of 928674 observations of put and call European Options traded on the CBOE. "
   ]
  },
  {
   "cell_type": "code",
   "execution_count": 3,
   "metadata": {},
   "outputs": [
    {
     "name": "stdout",
     "output_type": "stream",
     "text": [
      "Index(['UnderlyingSymbol', 'UnderlyingPrice', 'Flags', 'OptionSymbol', 'Type',\n",
      "       'Expiration', ' DataDate', 'Strike', 'Last', 'Bid', 'Ask', 'Volume',\n",
      "       'OpenInterest', 'T1OpenInterest', 'IVMean', 'IVBid', 'IVAsk', 'Delta',\n",
      "       'Gamma', 'Theta', 'Vega', 'AKA'],\n",
      "      dtype='object')\n",
      "928674\n"
     ]
    }
   ],
   "source": [
    "data = pd.read_csv('/Users/kartikeyabisht/Desktop/Sample_L3_20190815/L3_options_20190815.csv')\n",
    "print(data.columns)\n",
    "print(len(data))"
   ]
  },
  {
   "attachments": {},
   "cell_type": "markdown",
   "metadata": {},
   "source": [
    "We can see that the main features are ['UnderlyingSymbol', 'UnderlyingPrice', 'Flags', 'OptionSymbol', 'Type',\n",
    "       'Expiration', ' DataDate', 'Strike', 'Last', 'Bid', 'Ask', 'Volume',\n",
    "       'OpenInterest', 'T1OpenInterest', 'IVMean', 'IVBid', 'IVAsk', 'Delta',\n",
    "       'Gamma', 'Theta', 'Vega', 'AKA']\n"
   ]
  },
  {
   "attachments": {},
   "cell_type": "markdown",
   "metadata": {},
   "source": [
    "#### 2.1 First level of feature selection\n",
    "\n",
    "The OptionSymbol and AKA are treated as labels for the options and thus will not be incorporated into the regression model. \n",
    "\n",
    "In reality, the identity of the underlying MAY have an impact on the pricing of its option and we would investigate if there is an statistical relationship. \n",
    "\n",
    "'Last' - the last trading price of the option is also discarded. \n",
    "\n",
    "Our dataset contains the feature 'IVMean' - this is the mean between the bid implied volatility of the option and the ask implied volatility. This is not necessarily equal to the true IV of the option. For future improvements, we would incorporate a market-maker's IV estimates OR our own (through methods such as those in Malliaris and Salchenberger 1996) in our model. "
   ]
  },
  {
   "cell_type": "code",
   "execution_count": 4,
   "metadata": {},
   "outputs": [
    {
     "name": "stdout",
     "output_type": "stream",
     "text": [
      "0\n",
      "928674\n",
      "928674\n"
     ]
    },
    {
     "name": "stderr",
     "output_type": "stream",
     "text": [
      "/var/folders/9w/bgjm8ttd5qbdnb216z7gzgs00000gn/T/ipykernel_76163/809435403.py:5: FutureWarning: In a future version of pandas all arguments of DataFrame.any and Series.any will be keyword-only.\n",
      "  data = data.loc[(data != 0).any(1)]\n"
     ]
    }
   ],
   "source": [
    "data = data.drop(['Flags', 'UnderlyingSymbol','OptionSymbol', 'AKA','Last', 'IVBid', 'IVAsk'], axis = 1)\n",
    "print(data.isna().sum(axis = 1).sum())\n",
    "\n",
    "print(len(data))\n",
    "data = data.loc[(data != 0).any(1)]\n",
    "print(len(data))\n"
   ]
  },
  {
   "attachments": {},
   "cell_type": "markdown",
   "metadata": {},
   "source": [
    "There are no entried with NA, NAN etc."
   ]
  },
  {
   "attachments": {},
   "cell_type": "markdown",
   "metadata": {},
   "source": [
    "#### 2.2 Feature Engineering\n",
    "\n",
    "Firstly, we want to determine an appropriate \"price\" for the options based on the bid-ask quoted. Here we make the assumption that the market makers have a \"theo\" - theoretical fair value of the option at present & that they construct their bid-ask quotes around this Theo with a uniform width. \n",
    "\n",
    "Secondly, we want to determine the time to expiration for each of the options \n",
    "\n",
    "Thirdly, we want to determine the difference between our strike price & underlying price to arrive at a single scale that establishes whether an option is in,at,out-the money. "
   ]
  },
  {
   "cell_type": "code",
   "execution_count": 5,
   "metadata": {},
   "outputs": [],
   "source": [
    "data['Theo'] = (data['Bid']+data['Ask'])/2\n",
    "data['Expiration'] = pd.to_datetime(data['Expiration'])\n",
    "data[' DataDate'] = pd.to_datetime(data[' DataDate'])\n",
    "\n",
    "data['time_to_exp'] = data['Expiration']-data[' DataDate']\n",
    "data['time_to_exp'] = data['time_to_exp'].dt.days\n",
    "\n",
    "data['diff_to_strike'] = data['Strike'] - data['UnderlyingPrice']\n",
    "\n",
    "data = data.drop(['Expiration', ' DataDate', 'Bid', 'Ask'], axis = 1)"
   ]
  },
  {
   "attachments": {},
   "cell_type": "markdown",
   "metadata": {},
   "source": [
    "#### 2.3 Outlier Detection & Removal\n",
    "\n",
    "We utilise the Local Outlier Factort (LOF) Algorithm for anomaly detection\n",
    "- In Summary: the LOF algo computes a score that measures the local density deviation of a given data point with respect to it's neighbors\n",
    "- a more detailed explaination of the process is available in the original paper: https://www.dbs.ifi.lmu.de/Publikationen/Papers/LOF.pdf\n",
    "\n",
    "- 1) First we use the LOF to get a score of 1, -1 (outlier)\n",
    "  2) Secondly, we create two data sets; one for calls & one for puts with the outliers removed"
   ]
  },
  {
   "cell_type": "code",
   "execution_count": 22,
   "metadata": {},
   "outputs": [],
   "source": [
    "from sklearn.neighbors import LocalOutlierFactor\n",
    "\n",
    "data_calls = data[data['Type']=='call']\n",
    "data_puts = data[data['Type']=='put']\n",
    "data_calls = data_calls.drop('Type', axis=1)\n",
    "data_puts = data_puts.drop('Type', axis=1)\n",
    "\n",
    "data_calls = data_calls.reset_index().drop('index', axis=1)\n",
    "data_puts = data_puts.reset_index().drop('index', axis =1)\n",
    "\n",
    "clf_calls = LocalOutlierFactor()\n",
    "clf_puts = LocalOutlierFactor()\n",
    "call_LOF = clf_calls.fit_predict(data_calls)\n",
    "put_LOF = clf_puts.fit_predict(data_puts)\n"
   ]
  },
  {
   "attachments": {},
   "cell_type": "markdown",
   "metadata": {},
   "source": [
    "Frist we split our data sets into call & puts.\n",
    "We then calculated the LOF for each data entry and this is call_LOF & put_LOF\n",
    "\n",
    "Below we define a function that generates two dataframes for the call AND put datasets - one filled with inliers and one filled with outliers. Thus it effectively partitions our call/put datasets"
   ]
  },
  {
   "cell_type": "code",
   "execution_count": 23,
   "metadata": {},
   "outputs": [],
   "source": [
    "def inlier_outlier_sep(LOF,dataset):\n",
    "    LOF_df = pd.DataFrame(LOF)\n",
    "    inlier_index_vals = LOF_df.index[LOF_df[0]==1].to_list()\n",
    "    outlier_index_vals = LOF_df.index[LOF_df[0]==-1].to_list()\n",
    "    inlier = dataset.iloc[inlier_index_vals]\n",
    "    outlier = dataset.iloc[outlier_index_vals]\n",
    "    return (inlier, outlier)\n",
    "\n",
    "call_inlier, call_outlier = inlier_outlier_sep(call_LOF, data_calls)\n",
    "puts_inlier, puts_outlier = inlier_outlier_sep(put_LOF, data_puts)"
   ]
  },
  {
   "attachments": {},
   "cell_type": "markdown",
   "metadata": {},
   "source": [
    "Finally, we combine the put & call filtered datasets into a single dataframe, whilst also reassigning their classification as a put or call.\n",
    "\n",
    "We also shuffle the rows of the dataframe so as to distribute \"call\" & \"put\" option types throughout the data frame. This is important as later one we will be using cross-validation that relies on splitting the data set into different folds"
   ]
  },
  {
   "cell_type": "code",
   "execution_count": 45,
   "metadata": {},
   "outputs": [
    {
     "name": "stderr",
     "output_type": "stream",
     "text": [
      "/var/folders/9w/bgjm8ttd5qbdnb216z7gzgs00000gn/T/ipykernel_76163/886661642.py:1: SettingWithCopyWarning: \n",
      "A value is trying to be set on a copy of a slice from a DataFrame.\n",
      "Try using .loc[row_indexer,col_indexer] = value instead\n",
      "\n",
      "See the caveats in the documentation: https://pandas.pydata.org/pandas-docs/stable/user_guide/indexing.html#returning-a-view-versus-a-copy\n",
      "  call_inlier['Type'] = 'call'\n",
      "/var/folders/9w/bgjm8ttd5qbdnb216z7gzgs00000gn/T/ipykernel_76163/886661642.py:2: SettingWithCopyWarning: \n",
      "A value is trying to be set on a copy of a slice from a DataFrame.\n",
      "Try using .loc[row_indexer,col_indexer] = value instead\n",
      "\n",
      "See the caveats in the documentation: https://pandas.pydata.org/pandas-docs/stable/user_guide/indexing.html#returning-a-view-versus-a-copy\n",
      "  puts_inlier['Type'] = 'put'\n"
     ]
    },
    {
     "name": "stdout",
     "output_type": "stream",
     "text": [
      "899604\n",
      "928674\n"
     ]
    }
   ],
   "source": [
    "call_inlier['Type'] = 'call'\n",
    "puts_inlier['Type'] = 'put'\n",
    "final_train_data = pd.concat([call_inlier, puts_inlier])\n",
    "final_train_data = final_train_data.sample(frac=1).reset_index().drop('index', axis = 1)\n",
    "print(len(final_train_data))\n",
    "print(len(data))"
   ]
  },
  {
   "attachments": {},
   "cell_type": "markdown",
   "metadata": {},
   "source": [
    "We can see that we have removed around 29000 points that were classified as outliers using the Local Outlier Factor model\n",
    "\n",
    "Finally, we one hot-incode the data regarding option type"
   ]
  },
  {
   "cell_type": "code",
   "execution_count": 46,
   "metadata": {},
   "outputs": [],
   "source": [
    "final_train_data[['call', 'put']]=pd.get_dummies(final_train_data['Type'])\n",
    "final_train_data = final_train_data.drop('Type', axis = 1)\n"
   ]
  },
  {
   "attachments": {
    "image.png": {
     "image/png": "[encoded data removed]"
    }
   },
   "cell_type": "markdown",
   "metadata": {},
   "source": [
    "### SUMMARY of the XGBoost (Extreme Gradient Boosting) Model for regression\n",
    "\n",
    "XGBoost is a type of gradient boosting that utilises trees. Gradient Boosting models predict a target variable by combining estimates from several weaker models (trees for XGBoost). XGBoost is called a stagewise additive model because: \n",
    "- Additive: final output from the model is a linear sum of all predictions\n",
    "- Stagewise: as we build the M trees, the output from the ALL the trees uptil and including the (m-1)st tree \"guides\" the construction of the next (m)th tree\n",
    "\n",
    "An intuitive diagram of the algorithm is provided below (source: AWS Sagemaker guides)\n",
    "![image.png](attachment:image.png)\n",
    "\n",
    "XGBoost works by minimising a regularized (L1, L2, others*) objective function. This function combines a convex loss function (typically squared error) AND a model complexity penalty term. \n",
    "\n",
    "In essence; training of the model proceeds iteratively whereby new trees are added that predict the residuals of prior trees. \n",
    "\n",
    "An indepth description of XGBoost is given in the \"Algorithms used\" file. \n",
    "\n",
    "\n"
   ]
  },
  {
   "attachments": {},
   "cell_type": "markdown",
   "metadata": {},
   "source": [
    "### 3.0 Feature Selection by Exhaustion\n",
    "\n",
    "We now carry out feature selection in the following manner: \n",
    "\n",
    "1) Certain features have to be included in our model every time - these are determined by a review of option pricing literature. These are in the list \"features_non_optional\". optional features are placed in the list \"features_optional\" -- we use itertools to create a list of all possible combinations of features that can be used in our model\n",
    "\n",
    "2) For each possible feature set we determine the best performing model by using Tree of Parzen Estimation (TPE) based hyper-parameter tuning. We utilise the HyperOpt library for this "
   ]
  },
  {
   "attachments": {},
   "cell_type": "markdown",
   "metadata": {},
   "source": [
    "#### 3.1 Creating All possible Feature subsets"
   ]
  },
  {
   "cell_type": "code",
   "execution_count": 48,
   "metadata": {},
   "outputs": [
    {
     "name": "stdout",
     "output_type": "stream",
     "text": [
      "8\n"
     ]
    }
   ],
   "source": [
    "import itertools\n",
    "\n",
    "features_optional = ['Volume', 'OpenInterest', 'T1OpenInterest']\n",
    "features_non_optional = ['Delta', 'Gamma', 'Theta', 'Vega','time_to_exp', 'diff_to_strike', 'call', 'put', 'IVMean']\n",
    "feature_subsets = []\n",
    "for n in np.arange(len(features_optional)+1):\n",
    "    for x in list(itertools.combinations(features_optional, n)):\n",
    "        x = list(x) + features_non_optional\n",
    "        feature_subsets.append(x)\n",
    "\n",
    "print(len(feature_subsets))"
   ]
  },
  {
   "attachments": {},
   "cell_type": "markdown",
   "metadata": {},
   "source": [
    "As a sanity check we can see that we should have  3c0+ 3c1 + 3c2 + 3c3 = 8 combinations. This matches the number of subsets in our list above. These 8 combinations are:"
   ]
  },
  {
   "cell_type": "code",
   "execution_count": 49,
   "metadata": {},
   "outputs": [
    {
     "name": "stdout",
     "output_type": "stream",
     "text": [
      "[['Delta', 'Gamma', 'Theta', 'Vega', 'time_to_exp', 'diff_to_strike', 'call', 'put', 'IVMean'], ['Volume', 'Delta', 'Gamma', 'Theta', 'Vega', 'time_to_exp', 'diff_to_strike', 'call', 'put', 'IVMean'], ['OpenInterest', 'Delta', 'Gamma', 'Theta', 'Vega', 'time_to_exp', 'diff_to_strike', 'call', 'put', 'IVMean'], ['T1OpenInterest', 'Delta', 'Gamma', 'Theta', 'Vega', 'time_to_exp', 'diff_to_strike', 'call', 'put', 'IVMean'], ['Volume', 'OpenInterest', 'Delta', 'Gamma', 'Theta', 'Vega', 'time_to_exp', 'diff_to_strike', 'call', 'put', 'IVMean'], ['Volume', 'T1OpenInterest', 'Delta', 'Gamma', 'Theta', 'Vega', 'time_to_exp', 'diff_to_strike', 'call', 'put', 'IVMean'], ['OpenInterest', 'T1OpenInterest', 'Delta', 'Gamma', 'Theta', 'Vega', 'time_to_exp', 'diff_to_strike', 'call', 'put', 'IVMean'], ['Volume', 'OpenInterest', 'T1OpenInterest', 'Delta', 'Gamma', 'Theta', 'Vega', 'time_to_exp', 'diff_to_strike', 'call', 'put', 'IVMean']]\n"
     ]
    }
   ],
   "source": [
    "print(feature_subsets)"
   ]
  },
  {
   "attachments": {},
   "cell_type": "markdown",
   "metadata": {},
   "source": [
    "#### 3.2 Hyperparameter Tuning (Round 1)\n",
    "\n",
    "First we define our Hyperparameter(s))\n",
    "\n",
    "- Our regularisation HP are: 'reg_alpha', 'reg_lambda', 'learning_rate', 'max_delta_step'\n",
    "- Our pruning parameters are: 'min_split_loss', 'max_depth', 'min_child_weight'\n",
    "- n_estimators controls how many models (M) are made.\n",
    "- Sampling parameters are: 'subsample':row sample proportion, 'colsample_bytree', 'colsample_bylevel','colsample_bynode'\n",
    "\n",
    "Note when we initialise our model we also define booster = 'gbtree' and 'eval_metric' = 'RMSE'\n",
    "\n",
    "The search space for these Hyperparameters is:\n",
    "- learning rate:  log space between -5 and 0 base 10\n",
    "- reg_alpha = log space between 0 and 1000\n",
    "- reg_lambda = log space between 0 and 1000\n",
    "- max_depth: log space between 5 and 1000\n",
    "- min_split_loss = log space between 0 and 100\n",
    "- max_delta_step = recommended range is 1 to 10\n",
    "- min_child_weight = log space between 0 and 100\n",
    "- subsample/colsamples = uniform between 0 and 1\n",
    "- N_estimators should be as such: [20, 50, 100, 200, 500, 1000, 2000]"
   ]
  },
  {
   "attachments": {},
   "cell_type": "markdown",
   "metadata": {},
   "source": [
    "Below we split our data into train & test sets. We also define a 5-Fold Cross-validator"
   ]
  },
  {
   "cell_type": "code",
   "execution_count": 67,
   "metadata": {},
   "outputs": [],
   "source": [
    "import xgboost as xgb\n",
    "from sklearn.metrics import mean_squared_error\n",
    "from sklearn.model_selection import KFold, cross_val_score\n",
    "from sklearn.model_selection import train_test_split\n",
    "\n",
    "Y = final_train_data['Theo']\n",
    "X = final_train_data.drop('Theo', axis = 1)\n",
    "\n",
    "random_state = 40\n",
    "train_data, test_data, train_targets, test_targets = train_test_split(X,Y,test_size=0.20, shuffle = True, random_state=random_state)\n",
    "num_folds =5\n",
    "kf = KFold(n_splits=num_folds, random_state=random_state, shuffle=True)\n"
   ]
  },
  {
   "attachments": {},
   "cell_type": "markdown",
   "metadata": {},
   "source": [
    "We define our regressor as well as the Hyperparameter search space/grid. We first carry out gridsearch as a quick hyper-parameter tuning method"
   ]
  },
  {
   "cell_type": "code",
   "execution_count": 2,
   "metadata": {},
   "outputs": [
    {
     "ename": "NameError",
     "evalue": "name 'xgb' is not defined",
     "output_type": "error",
     "traceback": [
      "\u001b[0;31m---------------------------------------------------------------------------\u001b[0m",
      "\u001b[0;31mNameError\u001b[0m                                 Traceback (most recent call last)",
      "Cell \u001b[0;32mIn[2], line 1\u001b[0m\n\u001b[0;32m----> 1\u001b[0m reg \u001b[39m=\u001b[39m xgb\u001b[39m.\u001b[39mXGBRegressor(booster\u001b[39m=\u001b[39m\u001b[39m'\u001b[39m\u001b[39mgbtree\u001b[39m\u001b[39m'\u001b[39m, eval_metric\u001b[39m=\u001b[39m\u001b[39m'\u001b[39m\u001b[39mrmse\u001b[39m\u001b[39m'\u001b[39m, random_state\u001b[39m=\u001b[39mrandom_state)\n\u001b[1;32m      2\u001b[0m param_grid \u001b[39m=\u001b[39m {\u001b[39m\"\u001b[39m\u001b[39mlearning_rate\u001b[39m\u001b[39m\"\u001b[39m:np\u001b[39m.\u001b[39mlogspace(\u001b[39m-\u001b[39m\u001b[39m5\u001b[39m,\u001b[39m0\u001b[39m, num \u001b[39m=\u001b[39m \u001b[39m20\u001b[39m, endpoint\u001b[39m=\u001b[39m\u001b[39mTrue\u001b[39;00m, base\u001b[39m=\u001b[39m\u001b[39m10.0\u001b[39m), \u001b[39m\"\u001b[39m\u001b[39mreg_alpha\u001b[39m\u001b[39m\"\u001b[39m: np\u001b[39m.\u001b[39mlogspace(\u001b[39m-\u001b[39m\u001b[39m2\u001b[39m,\u001b[39m3\u001b[39m, num\u001b[39m=\u001b[39m\u001b[39m10\u001b[39m, endpoint\u001b[39m=\u001b[39m\u001b[39mTrue\u001b[39;00m), \u001b[39m\"\u001b[39m\u001b[39mreg_lambda\u001b[39m\u001b[39m\"\u001b[39m:np\u001b[39m.\u001b[39mlogspace(\u001b[39m-\u001b[39m\u001b[39m2\u001b[39m,\u001b[39m3\u001b[39m, num\u001b[39m=\u001b[39m\u001b[39m10\u001b[39m, endpoint\u001b[39m=\u001b[39m\u001b[39mTrue\u001b[39;00m),\u001b[39m\"\u001b[39m\u001b[39mmin_child_weight\u001b[39m\u001b[39m\"\u001b[39m: np\u001b[39m.\u001b[39mlogspace(\u001b[39m-\u001b[39m\u001b[39m2\u001b[39m, \u001b[39m3\u001b[39m, num\u001b[39m=\u001b[39m\u001b[39m10\u001b[39m, endpoint\u001b[39m=\u001b[39m\u001b[39mTrue\u001b[39;00m), \u001b[39m\"\u001b[39m\u001b[39mmax_delta_step\u001b[39m\u001b[39m\"\u001b[39m:[\u001b[39m0\u001b[39m,\u001b[39m2\u001b[39m,\u001b[39m4\u001b[39m,\u001b[39m6\u001b[39m,\u001b[39m8\u001b[39m,\u001b[39m10\u001b[39m], \u001b[39m\"\u001b[39m\u001b[39mmin_split_loss\u001b[39m\u001b[39m\"\u001b[39m: np\u001b[39m.\u001b[39mlogspace(\u001b[39m-\u001b[39m\u001b[39m2\u001b[39m,\u001b[39m3\u001b[39m,num\u001b[39m=\u001b[39m\u001b[39m10\u001b[39m, endpoint \u001b[39m=\u001b[39m \u001b[39mTrue\u001b[39;00m),\u001b[39m\"\u001b[39m\u001b[39mn_estimators\u001b[39m\u001b[39m\"\u001b[39m:[\u001b[39m100\u001b[39m, \u001b[39m200\u001b[39m, \u001b[39m500\u001b[39m, \u001b[39m1000\u001b[39m, \u001b[39m2000\u001b[39m, \u001b[39m5000\u001b[39m], \u001b[39m\"\u001b[39m\u001b[39msubsample\u001b[39m\u001b[39m\"\u001b[39m:np\u001b[39m.\u001b[39mlinspace(\u001b[39m0\u001b[39m,\u001b[39m1\u001b[39m,num\u001b[39m=\u001b[39m\u001b[39m10\u001b[39m, endpoint\u001b[39m=\u001b[39m\u001b[39mFalse\u001b[39;00m), \u001b[39m\"\u001b[39m\u001b[39mcolsample_bytree\u001b[39m\u001b[39m\"\u001b[39m:np\u001b[39m.\u001b[39mlinspace(\u001b[39m0\u001b[39m,\u001b[39m1\u001b[39m,num\u001b[39m=\u001b[39m\u001b[39m10\u001b[39m, endpoint\u001b[39m=\u001b[39m\u001b[39mFalse\u001b[39;00m), \u001b[39m\"\u001b[39m\u001b[39mcolsample_bylevel\u001b[39m\u001b[39m\"\u001b[39m:np\u001b[39m.\u001b[39mlinspace(\u001b[39m0\u001b[39m,\u001b[39m1\u001b[39m,num\u001b[39m=\u001b[39m\u001b[39m10\u001b[39m, endpoint\u001b[39m=\u001b[39m\u001b[39mFalse\u001b[39;00m), \u001b[39m\"\u001b[39m\u001b[39mcolsample_bynode\u001b[39m\u001b[39m\"\u001b[39m:np\u001b[39m.\u001b[39mlinspace(\u001b[39m0\u001b[39m,\u001b[39m1\u001b[39m,num\u001b[39m=\u001b[39m\u001b[39m10\u001b[39m,endpoint\u001b[39m=\u001b[39m\u001b[39mFalse\u001b[39;00m)}\n\u001b[1;32m      4\u001b[0m \u001b[39mfrom\u001b[39;00m \u001b[39msklearn\u001b[39;00m\u001b[39m.\u001b[39;00m\u001b[39mmodel_selection\u001b[39;00m \u001b[39mimport\u001b[39;00m GridSearchCV\n",
      "\u001b[0;31mNameError\u001b[0m: name 'xgb' is not defined"
     ]
    }
   ],
   "source": [
    "reg = xgb.XGBRegressor(booster='gbtree', eval_metric='rmse', random_state=random_state)\n",
    "param_grid = {\"learning_rate\":np.logspace(-5,0, num = 20, endpoint=True, base=10.0), \"reg_alpha\": np.logspace(-2,3, num=10, endpoint=True), \"reg_lambda\":np.logspace(-2,3, num=10, endpoint=True),\"min_child_weight\": np.logspace(-2, 3, num=10, endpoint=True), \"max_delta_step\":[0,2,4,6,8,10], \"min_split_loss\": np.logspace(-2,3,num=10, endpoint = True),\"n_estimators\":[100, 200, 500, 1000, 2000, 5000], \"subsample\":np.linspace(0,1,num=10, endpoint=False), \"colsample_bytree\":np.linspace(0,1,num=10, endpoint=False), \"colsample_bylevel\":np.linspace(0,1,num=10, endpoint=False), \"colsample_bynode\":np.linspace(0,1,num=10,endpoint=False)}\n",
    "\n",
    "from sklearn.model_selection import GridSearchCV\n",
    "\n",
    "gs=GridSearchCV(reg, param_grid,scoring='neg_mean_squared_error',cv=kf, verbose=False)\n",
    "gs.fit(train_data[feature_subsets[0]], train_data)\n",
    "gs_test_score = mean_squared_error(test_targets[feature_subsets[0]], gs.predict(test_data))\n",
    "\n",
    "print(\"Best MSE {:.3f} params {}\".format(-gs.best_score_, gs.best_params_))"
   ]
  },
  {
   "attachments": {},
   "cell_type": "markdown",
   "metadata": {},
   "source": [
    "We look at how the parameters have changed from iteration to iteration. This can give a better idea of what aprameters to choose/eliminate"
   ]
  },
  {
   "cell_type": "code",
   "execution_count": null,
   "metadata": {},
   "outputs": [],
   "source": [
    "gs_results_df=pd.DataFrame(np.transpose([-gs.cv_results_['mean_test_score'],\n",
    "                                         gs.cv_results_['param_learning_rate'].data,\n",
    "                                         gs.cv_results_['param_max_depth'].data,\n",
    "                                         gs.cv_results_['param_max_depth'].data,\n",
    "                                         gs.cv_results_['param_max_depth'].data,\n",
    "                                         gs.cv_results_['param_n_estimators'].data]),\n",
    "                           columns=['score', 'learning_rate', 'max_depth', 'n_estimators'])\n",
    "gs_results_df.plot(subplots=True,figsize=(10, 10))"
   ]
  },
  {
   "attachments": {},
   "cell_type": "markdown",
   "metadata": {},
   "source": [
    "Now we define a report function that reports back the best hyperparameters as well as the model performance"
   ]
  },
  {
   "attachments": {},
   "cell_type": "markdown",
   "metadata": {},
   "source": [
    "Now we carry out the HP tuning for each subset for the 20 random seeds"
   ]
  },
  {
   "cell_type": "code",
   "execution_count": null,
   "metadata": {},
   "outputs": [],
   "source": [
    "\n",
    "#we make a dictionary that contains the FEATURE SUBSET & their respective BEST HP models\n",
    "X1 = final_train_data[feature_subsets[0]]; X4 = final_train_data[feature_subsets[3]]; X7 = final_train_data[feature_subsets[6]]\n",
    "X2 = final_train_data[feature_subsets[1]]; X5 = final_train_data[feature_subsets[4]]; X8 = final_train_data[feature_subsets[7]]\n",
    "X3 = final_train_data[feature_subsets[2]]; X6 = final_train_data[feature_subsets[5]]\n",
    "\n",
    "Y = final_train_data['Theo']\n",
    "\n",
    "#We notice that when 8 features are used, the best score is 0.82, 9 features = 0.746, 0.5555, 0.6197, 0.780, 10 features = 0.9338, 0.460, 0.9325, 0.9329, 0.779294, 0.705705,  11 features = 0.796, 0.890236, 0.8839, 0.7775\n",
    "#Therefore we can see that we ONLY need 9 features (the non-optional 8 & one optional.)\n",
    "#Furthermore, the performance of the model X3 (non-optional features + OPEN INTEREST) is the best - thus our feature selection eliminates volume, T1OpenInterest & IVMean\n",
    "\n",
    "\n",
    "###FURTHER HYPERPARAMETER TUNING\n",
    "\n",
    "#{'colsample_bylevel': 0.6000000000000001, 'colsample_bynode': 0.2, 'colsample_bytree': 0.30000000000000004, 'learning_rate': 0.04832930238571752, 'max_delta_step': 0, 'min_child_weight': 0.1291549665014884, 'min_split_loss': 5.994842503189409, 'reg_alpha': 21.544346900318846, 'reg_lambda': 0.01, 'subsample': 0.1, 'n_estimators': 100}\n",
    "#for model Index(['OpenInterest', 'Delta', 'Gamma', 'Theta', 'Vega', 'time_to_exp',\n",
    "       #'diff_to_strike', 'call', 'put'],\n",
    "      #dtype='object'), the best score was 0.5555709182731629\n",
    "\n",
    "#to carry out a more robust sensitivity analysis for our hyperparameters we may want to use: https://hal.science/hal-03128298/document in the future\n",
    "import random\n",
    "list = []\n",
    "for a in [1,2,3,4,5,6,7,8,9,10,11,12,13,14,15]:\n",
    "    random.seed(a)\n",
    "    search_final=HpBandSterSearchCV(reg,param_dist,random_state=0,cv=5,optimizer='bohb').fit(X3,Y)\n",
    "    list.append(search_final.best_params_)\n",
    "df = pd.DataFrame(list)\n",
    "print(dict(df.mean()))\n",
    "\n",
    "#From this we see our model gives averaged values for the \"optimal\" hyperparameters\n",
    "#{'colsample_bylevel': 0.34, 'colsample_bynode': 0.46, 'colsample_bytree': 0.5, 'learning_rate': 0.3435704061541234, 'max_delta_step': 5.866666666666666, 'min_child_weight': 68.33691472546926, 'min_split_loss': 99.66747875289484, 'reg_alpha': 110.54463429130537, 'reg_lambda': 281.3451677407781, 'subsample': 0.5266666666666667, 'n_estimators': 95.53333333333333}\n",
    "\n",
    "\n",
    "\n",
    "\n",
    "\n",
    "\n",
    "######SAVING the MODEL\n",
    "from pickle import dump\n",
    "from pickle import load"
   ]
  }
 ],
 "metadata": {
  "kernelspec": {
   "display_name": "Python 3",
   "language": "python",
   "name": "python3"
  },
  "language_info": {
   "codemirror_mode": {
    "name": "ipython",
    "version": 3
   },
   "file_extension": ".py",
   "mimetype": "text/x-python",
   "name": "python",
   "nbconvert_exporter": "python",
   "pygments_lexer": "ipython3",
   "version": "3.11.1 (v3.11.1:a7a450f84a, Dec  6 2022, 15:24:06) [Clang 13.0.0 (clang-1300.0.29.30)]"
  },
  "orig_nbformat": 4,
  "vscode": {
   "interpreter": {
    "hash": "aee8b7b246df8f9039afb4144a1f6fd8d2ca17a180786b69acc140d282b71a49"
   }
  }
 },
 "nbformat": 4,
 "nbformat_minor": 2
}
